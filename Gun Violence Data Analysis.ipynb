{
 "cells": [
  {
   "cell_type": "markdown",
   "metadata": {},
   "source": [
    "Load up the packages"
   ]
  },
  {
   "cell_type": "code",
   "execution_count": 342,
   "metadata": {},
   "outputs": [
    {
     "data": {
      "text/html": [
       "<script>requirejs.config({paths: { 'plotly': ['https://cdn.plot.ly/plotly-latest.min']},});if(!window.Plotly) {{require(['plotly'],function(plotly) {window.Plotly=plotly;});}}</script>"
      ],
      "text/vnd.plotly.v1+html": [
       "<script>requirejs.config({paths: { 'plotly': ['https://cdn.plot.ly/plotly-latest.min']},});if(!window.Plotly) {{require(['plotly'],function(plotly) {window.Plotly=plotly;});}}</script>"
      ]
     },
     "metadata": {},
     "output_type": "display_data"
    }
   ],
   "source": [
    "import pandas as pd\n",
    "import numpy as np\n",
    "import matplotlib.pyplot as plt\n",
    "import seaborn as sns\n",
    "import plotly.offline as py\n",
    "color = sns.color_palette()\n",
    "import plotly.graph_objs as go\n",
    "py.init_notebook_mode(connected=True)\n",
    "import plotly.tools as tls\n",
    "import warnings\n",
    "warnings.filterwarnings('ignore')\n",
    "import os\n",
    "import collections\n",
    "from sklearn.feature_extraction.text import CountVectorizer\n",
    "from sklearn.feature_extraction.text import TfidfVectorizer\n",
    "from sklearn.linear_model import SGDClassifier"
   ]
  },
  {
   "cell_type": "code",
   "execution_count": 343,
   "metadata": {},
   "outputs": [],
   "source": [
    "pd.set_option('display.float_format', lambda x: '%.3f' % x)"
   ]
  },
  {
   "cell_type": "code",
   "execution_count": 344,
   "metadata": {},
   "outputs": [],
   "source": [
    "data = pd.read_csv('gun-violence-data.csv')"
   ]
  },
  {
   "cell_type": "markdown",
   "metadata": {},
   "source": [
    "Convert labels to object type since they're really numeric labels"
   ]
  },
  {
   "cell_type": "code",
   "execution_count": 345,
   "metadata": {},
   "outputs": [],
   "source": [
    "to_objs = ['incident_id', 'state_house_district', 'state_senate_district', 'congressional_district']\n",
    "data[to_objs] = data[to_objs].astype('object')\n"
   ]
  },
  {
   "cell_type": "markdown",
   "metadata": {},
   "source": [
    "Remove unuseful fields - more work than they seem worth for now "
   ]
  },
  {
   "cell_type": "code",
   "execution_count": 346,
   "metadata": {},
   "outputs": [],
   "source": [
    "to_omit = ['address', 'incident_url', 'source_url','incident_url_fields_missing', 'participant_relationship',\n",
    "'participant_age_group', 'participant_name', 'sources', 'location_description', 'gun_stolen']\n",
    "data.drop(columns = to_omit,inplace=True)"
   ]
  },
  {
   "cell_type": "code",
   "execution_count": 347,
   "metadata": {},
   "outputs": [],
   "source": [
    "data['date']= data['date'].astype('datetime64[ns]')"
   ]
  },
  {
   "cell_type": "markdown",
   "metadata": {},
   "source": [
    "Notes about dataset from info:\n",
    "\n",
    "- *incident_id, state_house_district, state_senate_district, congressional_district* need to be changed to object type since they are labels.\n",
    "- *date* needs to be datetype\n",
    "- Omitted for now: *address, incident_url, source_url, incident_url_fields_missing, participant_age_group, participant_name, sources*\n",
    "- text processing for *gun_stolen, gun_type, incident_characteristics, location_description, notes, participant_gender, participant_relationship, participant_type, participant_status*"
   ]
  },
  {
   "cell_type": "code",
   "execution_count": 348,
   "metadata": {},
   "outputs": [
    {
     "name": "stdout",
     "output_type": "stream",
     "text": [
      "<class 'pandas.core.frame.DataFrame'>\n",
      "RangeIndex: 239677 entries, 0 to 239676\n",
      "Data columns (total 19 columns):\n",
      "incident_id                 239677 non-null object\n",
      "date                        239677 non-null datetime64[ns]\n",
      "state                       239677 non-null object\n",
      "city_or_county              239677 non-null object\n",
      "n_killed                    239677 non-null int64\n",
      "n_injured                   239677 non-null int64\n",
      "congressional_district      227733 non-null object\n",
      "gun_type                    140226 non-null object\n",
      "incident_characteristics    239351 non-null object\n",
      "latitude                    231754 non-null float64\n",
      "longitude                   231754 non-null float64\n",
      "n_guns_involved             140226 non-null float64\n",
      "notes                       158660 non-null object\n",
      "participant_age             147379 non-null object\n",
      "participant_gender          203315 non-null object\n",
      "participant_status          212051 non-null object\n",
      "participant_type            214814 non-null object\n",
      "state_house_district        200905 non-null object\n",
      "state_senate_district       207342 non-null object\n",
      "dtypes: datetime64[ns](1), float64(3), int64(2), object(13)\n",
      "memory usage: 34.7+ MB\n"
     ]
    }
   ],
   "source": [
    "data.info()"
   ]
  },
  {
   "cell_type": "markdown",
   "metadata": {},
   "source": [
    "replace Nan's in n_guns_involved with '1' because at least 1 gun needed to be involved to be included in the dataset."
   ]
  },
  {
   "cell_type": "code",
   "execution_count": 349,
   "metadata": {},
   "outputs": [],
   "source": [
    "data.n_guns_involved.fillna(1, inplace=True)\n",
    "data.gun_type.fillna('Unknown', inplace=True)\n",
    "data.notes.fillna('None', inplace = True)\n",
    "data.dropna(inplace=True)"
   ]
  },
  {
   "cell_type": "code",
   "execution_count": 350,
   "metadata": {},
   "outputs": [
    {
     "data": {
      "text/plain": [
       "incident_id                0.000\n",
       "date                       0.000\n",
       "state                      0.000\n",
       "city_or_county             0.000\n",
       "n_killed                   0.000\n",
       "n_injured                  0.000\n",
       "congressional_district     0.000\n",
       "gun_type                   0.000\n",
       "incident_characteristics   0.000\n",
       "latitude                   0.000\n",
       "longitude                  0.000\n",
       "n_guns_involved            0.000\n",
       "notes                      0.000\n",
       "participant_age            0.000\n",
       "participant_gender         0.000\n",
       "participant_status         0.000\n",
       "participant_type           0.000\n",
       "state_house_district       0.000\n",
       "state_senate_district      0.000\n",
       "dtype: float64"
      ]
     },
     "execution_count": 350,
     "metadata": {},
     "output_type": "execute_result"
    }
   ],
   "source": [
    "data.isnull().sum() / len(data) * 100"
   ]
  },
  {
   "cell_type": "code",
   "execution_count": 351,
   "metadata": {},
   "outputs": [
    {
     "data": {
      "text/plain": [
       "(121427, 19)"
      ]
     },
     "execution_count": 351,
     "metadata": {},
     "output_type": "execute_result"
    }
   ],
   "source": [
    "data.shape"
   ]
  },
  {
   "cell_type": "code",
   "execution_count": 352,
   "metadata": {},
   "outputs": [],
   "source": [
    "data['participant_gender'].replace('([0-9]+)(::)','',regex=True, inplace=True)\n",
    "data['participant_status'].replace('([0-9]+)(::)','',regex=True, inplace=True)\n",
    "data['participant_type'].replace('([0-9]+)(::)','',regex=True, inplace=True)\n",
    "data['participant_age'].replace('([0-9]+)(::)','',regex=True, inplace=True)\n",
    "data['gun_type'].replace('([0-9]+)(::)','',regex=True, inplace=True)\n",
    "data['incident_characteristics'].replace('||','', inplace=True)\n"
   ]
  },
  {
   "cell_type": "code",
   "execution_count": 353,
   "metadata": {},
   "outputs": [],
   "source": [
    "cv_gender = TfidfVectorizer(input = 'content', vocabulary = ['male','female'])\n",
    "pt_gender = cv_gender.fit_transform(data.participant_gender).toarray()\n",
    "gender_df = pd.DataFrame(pt_gender, columns = cv_gender.vocabulary_)"
   ]
  },
  {
   "cell_type": "code",
   "execution_count": 354,
   "metadata": {},
   "outputs": [],
   "source": [
    "cv_status = TfidfVectorizer(input = 'content', vocabulary = ['killed','injured','unharmed','arrested'])\n",
    "pt_status = cv_status.fit_transform(data.participant_status).toarray()\n",
    "status_df = pd.DataFrame(pt_status, columns = cv_status.vocabulary_)"
   ]
  },
  {
   "cell_type": "code",
   "execution_count": 355,
   "metadata": {},
   "outputs": [],
   "source": [
    "cv_type = TfidfVectorizer(input = 'content', vocabulary = ['victim','subject','suspect'])\n",
    "pt_type = cv_type.fit_transform(data.participant_type).toarray()\n",
    "type_df = pd.DataFrame(pt_type, columns = cv_type.vocabulary_)"
   ]
  },
  {
   "cell_type": "code",
   "execution_count": 356,
   "metadata": {},
   "outputs": [],
   "source": [
    "cv_ic = TfidfVectorizer(input = 'content')\n",
    "ic = cv_ic.fit_transform(data.incident_characteristics).toarray()\n",
    "ic_df = pd.DataFrame(ic, columns = cv_ic.vocabulary_)"
   ]
  },
  {
   "cell_type": "code",
   "execution_count": 357,
   "metadata": {},
   "outputs": [],
   "source": [
    "cv_gun_type = TfidfVectorizer(input = 'content')\n",
    "gt = cv_gun_type.fit_transform(data.incident_characteristics).toarray()\n",
    "gt_df = pd.DataFrame(gt, columns = cv_gun_type.vocabulary_)"
   ]
  },
  {
   "cell_type": "code",
   "execution_count": 358,
   "metadata": {},
   "outputs": [],
   "source": [
    "data = pd.concat((data,type_df,status_df, gender_df,ic_df,gt_df), axis=1)"
   ]
  },
  {
   "cell_type": "code",
   "execution_count": 359,
   "metadata": {},
   "outputs": [],
   "source": [
    "data.drop(['participant_gender','participant_status','participant_type',\n",
    "           'incident_characteristics','gun_type','participant_age'],axis=1,inplace=True)"
   ]
  },
  {
   "cell_type": "code",
   "execution_count": 360,
   "metadata": {},
   "outputs": [],
   "source": [
    "data.dropna(inplace=True)"
   ]
  },
  {
   "cell_type": "code",
   "execution_count": 361,
   "metadata": {},
   "outputs": [],
   "source": [
    "num_data = data.select_dtypes(include = ['float64','int64'])"
   ]
  },
  {
   "cell_type": "code",
   "execution_count": 362,
   "metadata": {},
   "outputs": [],
   "source": [
    "freq = np.ravel(num_data.sum(axis=0))"
   ]
  },
  {
   "cell_type": "code",
   "execution_count": 365,
   "metadata": {},
   "outputs": [],
   "source": [
    "gt_df.loc[-1] = np.ravel(gt_df.sum(axis=0))"
   ]
  },
  {
   "cell_type": "code",
   "execution_count": 374,
   "metadata": {},
   "outputs": [
    {
     "data": {
      "text/plain": [
       "[(22053.280322815273, 'police'),\n",
       " (19081.08420292414, 'crime'),\n",
       " (18806.097813515687, 'political'),\n",
       " (13821.495961181157, 'surrender'),\n",
       " (13733.317963726786, 'murder'),\n",
       " (12872.274148957838, 'pistol'),\n",
       " (12436.331231605845, 'violence'),\n",
       " (7103.435688389231, 'during'),\n",
       " (6802.66401333592, 'unlawful'),\n",
       " (6278.318487845455, 'picked'),\n",
       " (6246.968891522004, 'institution'),\n",
       " (6002.252736784144, 'college'),\n",
       " (5798.4691072929145, 'unloaded'),\n",
       " (5562.390204991068, 'abductions'),\n",
       " (4739.682218426805, 'hunting'),\n",
       " (4718.092156409535, 'victim'),\n",
       " (4706.302403463088, 'by'),\n",
       " (4439.4098929054735, 'purchase'),\n",
       " (4397.19144696973, 'atf'),\n",
       " (4295.500790466045, 'non'),\n",
       " (4140.9010915227955, 'unsuccessful'),\n",
       " (4140.9010915227955, 'only'),\n",
       " (4140.9010915227955, 'accident'),\n",
       " (4032.409326517169, 'shoots'),\n",
       " (3848.2665075531586, 'prohibited'),\n",
       " (3824.587010361317, 'targeted'),\n",
       " (3689.147145534578, 'drug'),\n",
       " (3584.235057448425, 'diagram'),\n",
       " (3340.3747888184457, 'house'),\n",
       " (3242.6746096043967, 'party'),\n",
       " (3064.9076319373744, 'gang'),\n",
       " (3013.0732449527354, 'found'),\n",
       " (2837.0668420196866, 'home'),\n",
       " (2758.4547649524056, 'an'),\n",
       " (2757.411259337902, 'evidence'),\n",
       " (2641.569038462082, 'range'),\n",
       " (2641.569038462082, 'gun'),\n",
       " (2641.569038462082, 'discharge'),\n",
       " (2506.7447016543874, 'back'),\n",
       " (2472.2294550416786, 'the'),\n",
       " (2389.845674729991, 'hostage'),\n",
       " (2384.3873294747555, 'stolen'),\n",
       " (2384.3873294747555, 'occurs'),\n",
       " (2383.0068410386925, 'to'),\n",
       " (2383.0068410386925, 'fired'),\n",
       " (2383.0068410386925, 'child'),\n",
       " (2383.0068410386925, 'ar'),\n",
       " (2348.9547913482434, 'negligent'),\n",
       " (2319.9131443687816, 'multiple'),\n",
       " (2311.3386320648506, 'variants'),\n",
       " (2311.3386320648506, 'replica'),\n",
       " (2311.3386320648506, 'person'),\n",
       " (2311.3386320648506, 'in'),\n",
       " (2301.3190619982743, 'shotspotter'),\n",
       " (2301.3190619982743, 'samaritan'),\n",
       " (2281.0651536689884, 'owner'),\n",
       " (2256.4484233743156, 'robbery'),\n",
       " (2256.4484233743156, 'one'),\n",
       " (1832.239192270655, 'established'),\n",
       " (1798.2214287923466, 'animal'),\n",
       " (1735.9058432043153, 'unarmed'),\n",
       " (1735.9058432043153, 'dgu'),\n",
       " (1724.730207833833, 'resident'),\n",
       " (1724.730207833833, 'onsite'),\n",
       " (1414.9405364327747, 'assault'),\n",
       " (1279.2679110920885, 'establishment'),\n",
       " (1233.834327320798, 'license'),\n",
       " (1233.834327320798, 'defensive'),\n",
       " (1173.870980054055, 'burglary'),\n",
       " (1066.9146931759549, 'injury'),\n",
       " (1065.7571772337496, 'warrant'),\n",
       " (1065.7571772337496, 'rage'),\n",
       " (1065.7571772337496, 'intruder'),\n",
       " (1065.7571772337496, 'attempt'),\n",
       " (1058.9401627294035, 'implied'),\n",
       " (1006.9073496569828, 'influence'),\n",
       " (1005.1797992280902, 'disgruntled'),\n",
       " (890.2970095879191, 'elementary'),\n",
       " (825.0026047781644, 'friend'),\n",
       " (818.0372924214753, 'university'),\n",
       " (818.0372924214753, 'spree'),\n",
       " (818.0372924214753, 'location'),\n",
       " (818.0372924214753, 'club'),\n",
       " (818.0372924214753, 'alcohol'),\n",
       " (742.185417987297, 'business'),\n",
       " (726.645684932795, 'brandishing'),\n",
       " (717.8505457375296, 'involving'),\n",
       " (717.8505457375296, 'buy'),\n",
       " (661.7598712199018, 'variable'),\n",
       " (651.0151297510326, 'perp'),\n",
       " (644.6815874206502, 'shots'),\n",
       " (615.1719809876392, 'it'),\n",
       " (615.0269060394116, 'id'),\n",
       " (608.8031675287082, 'bb'),\n",
       " (549.611378297031, 'injured'),\n",
       " (549.611378297031, 'illegally'),\n",
       " (549.611378297031, 'employee'),\n",
       " (506.4968526799928, 'officer'),\n",
       " (497.0407544963883, 'mass'),\n",
       " (490.9501562995372, 'victims'),\n",
       " (490.9501562995372, 'suspect'),\n",
       " (490.9501562995372, 'hate'),\n",
       " (490.9501562995372, 'guns'),\n",
       " (490.9501562995372, 'drive'),\n",
       " (473.6810917587734, 'show'),\n",
       " (473.6810917587734, 'from'),\n",
       " (418.10857266988324, 'le'),\n",
       " (416.82883868511885, 'sale'),\n",
       " (411.125826477937, 'doctrine'),\n",
       " (401.56036456073946, 'no'),\n",
       " (368.2481034049981, 'domestic'),\n",
       " (368.2481034049981, 'accidental'),\n",
       " (345.7433771194658, 'but'),\n",
       " (337.15754880963806, 'locations'),\n",
       " (337.15754880963806, 'defined'),\n",
       " (337.15754880963806, 'ak'),\n",
       " (315.4177731270148, 'raid'),\n",
       " (315.4177731270148, 'aggression'),\n",
       " (314.8768565311588, 'with'),\n",
       " (314.8768565311588, 'up'),\n",
       " (314.8768565311588, 'road'),\n",
       " (314.8768565311588, 'mistaken'),\n",
       " (314.8768565311588, 'family'),\n",
       " (314.8768565311588, 'act'),\n",
       " (311.3859188866759, 'open'),\n",
       " (311.3859188866759, 'incident'),\n",
       " (311.3859188866759, 'cleaning'),\n",
       " (300.55547131075764, 'weapon'),\n",
       " (300.55547131075764, 'at'),\n",
       " (295.271456960638, 'playing'),\n",
       " (288.48068033711456, 'good'),\n",
       " (280.15717727450203, 'wounded'),\n",
       " (280.15717727450203, 'shot'),\n",
       " (280.15717727450203, 'shooting'),\n",
       " (280.15717727450203, 'perpetrator'),\n",
       " (280.15717727450203, 'killed'),\n",
       " (280.15717727450203, 'involvement'),\n",
       " (280.15717727450203, 'cop'),\n",
       " (280.15717727450203, 'armed'),\n",
       " (279.62465208857725, 'lost'),\n",
       " (279.62465208857725, 'jacking'),\n",
       " (274.6144868012893, 'flourishing'),\n",
       " (267.6770630787732, 'firearm'),\n",
       " (263.06179786093486, 'secondary'),\n",
       " (263.06179786093486, 'car'),\n",
       " (232.13131871189546, 'owned'),\n",
       " (222.0442984380584, 'school'),\n",
       " (200.60204675661498, 'applies'),\n",
       " (200.60204675661498, '15'),\n",
       " (200.32206548673443, 'suicide'),\n",
       " (191.36692622927814, 'criminal'),\n",
       " (186.5321933035629, 'pellet'),\n",
       " (186.5321933035629, 'other'),\n",
       " (186.5321933035629, 'or'),\n",
       " (186.5321933035629, 'confiscation'),\n",
       " (186.5321933035629, 'all'),\n",
       " (169.20986910823166, 'inflicted'),\n",
       " (168.60480495247117, 'tsa'),\n",
       " (168.60480495247117, 'shop'),\n",
       " (168.60480495247117, 'lockdown'),\n",
       " (153.85086234342813, 'enforcement'),\n",
       " (152.55168136569975, 'under'),\n",
       " (152.55168136569975, 'standoff'),\n",
       " (152.55168136569975, 'nav'),\n",
       " (152.55168136569975, 'castle'),\n",
       " (152.55168136569975, 'carry'),\n",
       " (152.55168136569975, 'and'),\n",
       " (150.81830340580584, 'recovered'),\n",
       " (150.81830340580584, 'dead'),\n",
       " (149.48406659569284, 'terrorism'),\n",
       " (147.61892870914966, 'stops'),\n",
       " (147.61892870914966, 'reported'),\n",
       " (147.61892870914966, 'felon'),\n",
       " (133.3250875532446, 'sex'),\n",
       " (133.3250875532446, 'occurred'),\n",
       " (130.2953312057879, 'without'),\n",
       " (120.63896362813207, 'required'),\n",
       " (120.63896362813207, 'injuries'),\n",
       " (120.63896362813207, 'gv'),\n",
       " (117.58956750820809, 'threat'),\n",
       " (113.56492212535139, 'of'),\n",
       " (107.91332021697902, 'stand'),\n",
       " (107.45060566630197, 'subject'),\n",
       " (106.13981066726764, 'where'),\n",
       " (97.22741458230566, 'alert'),\n",
       " (95.99629673541098, 'thought'),\n",
       " (95.99629673541098, 'third'),\n",
       " (76.92543117171407, 'ground'),\n",
       " (76.92543117171407, '47'),\n",
       " (76.66541111814357, 'around'),\n",
       " (71.21964056998287, 'drugs'),\n",
       " (71.21964056998287, 'bystander'),\n",
       " (69.20531896386794, 'shootout'),\n",
       " (69.20531896386794, 'concealed'),\n",
       " (69.20531896386794, 'action'),\n",
       " (67.30672801641565, 'overlap'),\n",
       " (66.50681862971737, 'your'),\n",
       " (66.50681862971737, 'self'),\n",
       " (48.903774702693916, 'street'),\n",
       " (48.903774702693916, 'ghost'),\n",
       " (48.903774702693916, 'death'),\n",
       " (44.437059913430126, 'shooters'),\n",
       " (38.646344718960336, 'kidnapping'),\n",
       " (37.647780396056355, 'crimes'),\n",
       " (34.96144713774663, 'commission'),\n",
       " (34.075184106591465, 'attempted'),\n",
       " (31.46796945079977, 'deceased'),\n",
       " (18.752497809290443, 'invasion'),\n",
       " (16.87945460957451, 'not'),\n",
       " (14.342632756569323, 'workplace'),\n",
       " (14.342632756569323, 'venn'),\n",
       " (14.342632756569323, 'use'),\n",
       " (14.342632756569323, 'possession'),\n",
       " (14.342632756569323, 'law'),\n",
       " (14.342632756569323, 'group'),\n",
       " (14.342632756569323, 'excluding'),\n",
       " (14.342632756569323, 'arrest'),\n",
       " (9.485268567366967, 'shooter'),\n",
       " (5.226473348182087, 'was'),\n",
       " (1.664152237212988, 'involved'),\n",
       " (1.664152237212988, 'bar'),\n",
       " (1.2118965288403594, 'whipping')]"
      ]
     },
     "execution_count": 374,
     "metadata": {},
     "output_type": "execute_result"
    }
   ],
   "source": [
    "sorted(set(list(zip(gt_df.loc[-1],gt_df.columns))),key=list,reverse=True)"
   ]
  },
  {
   "cell_type": "code",
   "execution_count": 366,
   "metadata": {},
   "outputs": [],
   "source": [
    "ic_df.loc[-1] = np.ravel(ic_df.sum(axis=0))"
   ]
  },
  {
   "cell_type": "code",
   "execution_count": null,
   "metadata": {},
   "outputs": [],
   "source": [
    "sorted(set(list(zip(ic_df.loc[-1],ic_df.columns))),key=list,reverse=True)"
   ]
  },
  {
   "cell_type": "code",
   "execution_count": 375,
   "metadata": {},
   "outputs": [],
   "source": [
    "status_df.loc[-1] = np.ravel(status_df.sum(axis=0))"
   ]
  },
  {
   "cell_type": "code",
   "execution_count": 376,
   "metadata": {},
   "outputs": [
    {
     "data": {
      "text/plain": [
       "[(142368.35654471428, 'unharmed'),\n",
       " (125593.8427365374, 'injured'),\n",
       " (104966.898871841, 'arrested'),\n",
       " (94120.8902901404, 'killed')]"
      ]
     },
     "execution_count": 376,
     "metadata": {},
     "output_type": "execute_result"
    }
   ],
   "source": [
    "sorted(set(list(zip(status_df.loc[-1],status_df.columns))),key=list,reverse=True)"
   ]
  },
  {
   "cell_type": "code",
   "execution_count": 377,
   "metadata": {},
   "outputs": [],
   "source": [
    "type_df.loc[-1] = np.ravel(type_df.sum(axis=0))"
   ]
  },
  {
   "cell_type": "code",
   "execution_count": 378,
   "metadata": {},
   "outputs": [
    {
     "data": {
      "text/plain": [
       "[(195344.37055416574, 'victim'),\n",
       " (159475.47304251487, 'suspect'),\n",
       " (159475.47304251487, 'subject')]"
      ]
     },
     "execution_count": 378,
     "metadata": {},
     "output_type": "execute_result"
    }
   ],
   "source": [
    "sorted(set(list(zip(type_df.loc[-1],type_df.columns))),key=list,reverse=True)"
   ]
  },
  {
   "cell_type": "code",
   "execution_count": 238,
   "metadata": {},
   "outputs": [],
   "source": [
    "from statsmodels.distributions.empirical_distribution import ECDF"
   ]
  },
  {
   "cell_type": "code",
   "execution_count": 322,
   "metadata": {},
   "outputs": [],
   "source": [
    "a = ECDF(data['n_killed'])\n",
    "b = ECDF(data['n_guns_involved'])"
   ]
  },
  {
   "cell_type": "code",
   "execution_count": 323,
   "metadata": {},
   "outputs": [
    {
     "data": {
      "image/png": "[encoded data removed]",
      "text/plain": [
       "<matplotlib.figure.Figure at 0x249521cdf28>"
      ]
     },
     "metadata": {},
     "output_type": "display_data"
    }
   ],
   "source": [
    "plt.plot(a.x, a.y, marker = '.', linestyle = 'none')\n",
    "plt.plot(b.x, b.y, marker = '.', linestyle = 'none')\n",
    "\n",
    "plt.xlabel('People killed in an incident')\n",
    "plt.ylabel('ECDF')\n",
    "plt.title('ECDF of number of killings per incident')\n",
    "plt.show()"
   ]
  },
  {
   "cell_type": "code",
   "execution_count": null,
   "metadata": {},
   "outputs": [],
   "source": []
  }
 ],
 "metadata": {
  "kernelspec": {
   "display_name": "Python 3",
   "language": "python",
   "name": "python3"
  },
  "language_info": {
   "codemirror_mode": {
    "name": "ipython",
    "version": 3
   },
   "file_extension": ".py",
   "mimetype": "text/x-python",
   "name": "python",
   "nbconvert_exporter": "python",
   "pygments_lexer": "ipython3",
   "version": "3.6.4"
  }
 },
 "nbformat": 4,
 "nbformat_minor": 2
}
